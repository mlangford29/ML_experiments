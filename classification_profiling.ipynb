{
 "cells": [
  {
   "cell_type": "code",
   "execution_count": null,
   "id": "46d21e32",
   "metadata": {},
   "outputs": [],
   "source": [
    "import pandas as pd\n",
    "import numpy as np\n",
    "import optuna\n",
    "import optuna.visualization as ov\n",
    "from optuna.samplers import RandomSampler\n",
    "import lightgbm as lgb\n",
    "from sklearn.datasets import make_classification\n",
    "from sklearn.model_selection import cross_val_score, KFold\n",
    "from tqdm.notebook import tqdm\n",
    "import matplotlib.pyplot as plt\n",
    "\n",
    "import warnings\n",
    "warnings.simplefilter(action='ignore', category=Warning)"
   ]
  },
  {
   "cell_type": "code",
   "execution_count": null,
   "id": "8309458a",
   "metadata": {},
   "outputs": [],
   "source": [
    "def objective(trial, scoring_metric='roc_auc'):\n",
    "    n_samples = trial.suggest_int('n_samples', 100, 10000000, log=True)\n",
    "    n_features = trial.suggest_int('n_features', 3, 20)\n",
    "    n_informative = trial.suggest_int('n_informative', 1, n_features - 2)\n",
    "    n_redundant = trial.suggest_int('n_redundant', 0, n_features - n_informative - 1)\n",
    "    n_repeated = n_features - n_informative - n_redundant\n",
    "    \n",
    "    # ensure the condition n_classes(2) * n_clusters_per_class <= 2**n_informative\n",
    "    max_clusters = min(5, (2 ** n_informative) // 2)\n",
    "    n_clusters_per_class = trial.suggest_int('n_clusters_per_class', 1, max_clusters)\n",
    "    \n",
    "    weights = [trial.suggest_uniform('weights', 0.01, 0.99)]\n",
    "    class_sep = trial.suggest_loguniform('class_sep', 0.01, 10)\n",
    "    \n",
    "    # generate dataset\n",
    "    X, y = make_classification(n_samples=n_samples, n_features=n_features,\n",
    "                               n_informative=n_informative, n_redundant=n_redundant,\n",
    "                               n_repeated=n_repeated, n_classes=2,\n",
    "                               n_clusters_per_class=n_clusters_per_class,\n",
    "                               weights=weights, class_sep=class_sep, flip_y=0.01,\n",
    "                               random_state=42)\n",
    "    \n",
    "    # define model\n",
    "    model = lgb.LGBMClassifier(verbose=-1)\n",
    "    \n",
    "    # perform 5-fold cross-validation\n",
    "    kf = KFold(n_splits=5, shuffle=True, random_state=42)\n",
    "    score = cross_val_score(model, X, y, cv=kf, scoring=scoring_metric).mean()\n",
    "    \n",
    "    return score\n"
   ]
  },
  {
   "cell_type": "code",
   "execution_count": null,
   "id": "4f612c5e",
   "metadata": {},
   "outputs": [],
   "source": [
    "def run_experiment(trials=1000, scoring_metric='roc_auc'):\n",
    "    optuna.logging.set_verbosity(optuna.logging.ERROR)\n",
    "    study = optuna.create_study(sampler=RandomSampler(), direction='maximize')\n",
    "    study.optimize(lambda trial: objective(trial, scoring_metric=scoring_metric), n_trials=trials, show_progress_bar=True)\n",
    "    \n",
    "    # collect results\n",
    "    results = study.trials_dataframe()\n",
    "    results.to_csv('simulation_results.csv', index=False)\n",
    "    return study\n",
    "\n",
    "# run the experiment\n",
    "study = run_experiment(trials=100000)"
   ]
  },
  {
   "cell_type": "code",
   "execution_count": null,
   "id": "dc15a930",
   "metadata": {},
   "outputs": [],
   "source": [
    "ov.plot_optimization_history(study)"
   ]
  },
  {
   "cell_type": "code",
   "execution_count": null,
   "id": "001d291e",
   "metadata": {},
   "outputs": [],
   "source": [
    "ov.plot_param_importances(study)"
   ]
  },
  {
   "cell_type": "code",
   "execution_count": null,
   "id": "57cc4b73",
   "metadata": {},
   "outputs": [],
   "source": [
    "ov.plot_contour(study, params=[\"class_sep\", \"weights\", \"n_samples\"])"
   ]
  }
 ],
 "metadata": {
  "kernelspec": {
   "display_name": "Python 3 (ipykernel)",
   "language": "python",
   "name": "python3"
  },
  "language_info": {
   "codemirror_mode": {
    "name": "ipython",
    "version": 3
   },
   "file_extension": ".py",
   "mimetype": "text/x-python",
   "name": "python",
   "nbconvert_exporter": "python",
   "pygments_lexer": "ipython3",
   "version": "3.9.16"
  }
 },
 "nbformat": 4,
 "nbformat_minor": 5
}
